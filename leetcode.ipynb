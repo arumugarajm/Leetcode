{
 "cells": [
  {
   "cell_type": "markdown",
   "metadata": {},
   "source": [
    "\n",
    "# using hash map method\n",
    "## 1.Two sum\n",
    "### Given an array of integers nums and an integer target, return indices of the two numbers such that they add up to target.\n",
    "\n",
    "### You may assume that each input would have exactly one solution, and you may not use the same element twice.\n",
    "\n",
    "### You can return the answer in any order\n",
    "\n",
    "https://leetcode.com/problems/two-sum/\n",
    "\n",
    "Logic: target = current_number + future_number (i,e 6 = 2 + x) store the current value and its index\n",
    "target - current_number = future_number (4 = x) search for this future value and its index\n",
    "Note: d{value:index} pair"
   ]
  },
  {
   "cell_type": "code",
   "execution_count": 33,
   "metadata": {},
   "outputs": [
    {
     "data": {
      "text/plain": [
       "[2, 1]"
      ]
     },
     "execution_count": 33,
     "metadata": {},
     "output_type": "execute_result"
    }
   ],
   "source": [
    "def two_sum(nums, target):\n",
    "    d = {} #create an empty array\n",
    "    for i in range(0, len(nums)): # To get index and value of the list\n",
    "        value = nums[i] # To get the current value from the list\n",
    "        difference = target - value # target = current value + future value (difference-new value present in the list)\n",
    "        if value not in d: # if the value is not present in the dictionary then store value and its index\n",
    "            d[difference] = i # get the value (left side) and its index (right side)\n",
    "            \n",
    "        else:  # To f=get the current index when the element which is already present in the dictionary then get the index\n",
    "            current_index = i # current index is iterating variable\n",
    "            past_index = d[value] # past index getting from the list\n",
    "            return [current_index, past_index] # return both the indices\n",
    "        \n",
    "        \n",
    "        \n",
    "nums= [2,5,1,9]\n",
    "target = 6\n",
    "result = two_sum(nums,target)\n",
    "result\n",
    "        "
   ]
  },
  {
   "cell_type": "markdown",
   "metadata": {},
   "source": [
    "# 2.Single number\n",
    "### Given a non-empty array of integers nums, every element appears twice except for one. Find that single one.\n",
    "\n",
    "### You must implement a solution with a linear runtime complexity and use only constant extra space.\n",
    "\n",
    "https://leetcode.com/problems/single-number/\n",
    "\n",
    "logic : store the number in list if not existed. If already existed delete that element from the dictionary, so that finally we will have singel element in the dictionary.\n",
    "Note: d{value:number of occurrence of a particular number} pair\n",
    "number repeated in single time"
   ]
  },
  {
   "cell_type": "code",
   "execution_count": 34,
   "metadata": {},
   "outputs": [
    {
     "data": {
      "text/plain": [
       "6"
      ]
     },
     "execution_count": 34,
     "metadata": {},
     "output_type": "execute_result"
    }
   ],
   "source": [
    "def single_number(nums):\n",
    "    d = {} #create an empty array\n",
    "    for i in nums: # we want only the number not its index. i = iterable numbers from the dictionary\n",
    "        if i not in d: # if the value is not present in the dictionary then store value and its number of occurrence\n",
    "            d[i] = 1 # get the value (left side) and its number of occurrence (right side)\n",
    "            \n",
    "        else:\n",
    "            del d[i] # delete the repeated number\n",
    "    return list(d.keys())[0] # change dict to list and print its first index (only the key has the original number)\n",
    "        \n",
    "        \n",
    "nums= [2,2,5,5,6]\n",
    "result = single_number(nums)\n",
    "result"
   ]
  },
  {
   "cell_type": "markdown",
   "metadata": {},
   "source": [
    "# Single Number II\n",
    "\n",
    "### Given an integer array nums where every element appears three times except for one, which appears exactly once. Find the single element and return it.\n",
    "\n",
    "### You must implement a solution with a linear runtime complexity and use only constant extra space.\n",
    "\n",
    "https://leetcode.com/problems/single-number-ii/\n",
    "    \n",
    "logic: store the number in list if not existed. If already existed increase the occurrence of the element in the dictionary, delete the element when the count value is 2.\n",
    "so that finally we will have singel element in the dictionary. Note: d{value:number of occurrence of a particular number} pair number repeated in single time"
   ]
  },
  {
   "cell_type": "code",
   "execution_count": 35,
   "metadata": {},
   "outputs": [
    {
     "data": {
      "text/plain": [
       "6"
      ]
     },
     "execution_count": 35,
     "metadata": {},
     "output_type": "execute_result"
    }
   ],
   "source": [
    "def single_number(nums):\n",
    "    d = {} #create an empty array\n",
    "    for i in nums: # we want only the number not its index. i = iterable numbers from the dictionary\n",
    "        if i not in d: # if the value is not present in the dictionary then store value and its number of occurrence\n",
    "            d[i] = 1 # get the value (left side) and its number of occurrence (right side)\n",
    "        else:\n",
    "            if d[i]==1: # if occurrence is one time add +1\n",
    "                d[i]+=1\n",
    "            else:\n",
    "                del d[i] # if occurrence is two times then delete the repeated number\n",
    "            \n",
    "        \n",
    "    return list(d.keys())[0] # change dict to list and print its first index (only the key has the original number)\n",
    "        \n",
    "        \n",
    "nums= [2,2,2,5,5,5,6]\n",
    "result = single_number(nums)\n",
    "result"
   ]
  },
  {
   "cell_type": "markdown",
   "metadata": {},
   "source": [
    "# Single Number III\n",
    "### Given an integer array nums, in which exactly two elements appear only once and all the other elements appear exactly twice. Find the two elements that appear only once. You can return the answer in any order.\n",
    "\n",
    "### You must write an algorithm that runs in linear runtime complexity and uses only constant extra space.\n",
    "\n",
    "https://leetcode.com/problems/single-number-iii/\n",
    "    \n",
    "Logic: apply the same logic which is used in single number. Return all the elements from the list.\n"
   ]
  },
  {
   "cell_type": "code",
   "execution_count": 36,
   "metadata": {},
   "outputs": [
    {
     "data": {
      "text/plain": [
       "[6, 9]"
      ]
     },
     "execution_count": 36,
     "metadata": {},
     "output_type": "execute_result"
    }
   ],
   "source": [
    "def single_number(nums):\n",
    "    d = {} #create an empty array\n",
    "    for i in nums: # we want only the number not its index. i = iterable numbers from the dictionary\n",
    "        if i not in d: # if the value is not present in the dictionary then store value and its number of occurrence\n",
    "            d[i] = 1 # get the value (left side) and its number of occurrence (right side)\n",
    "            \n",
    "        else:\n",
    "            del d[i] # delete the repeated number\n",
    "    return list(d.keys()) # change dict to list and print all the key values because it holds the numbers\n",
    "        \n",
    "        \n",
    "nums= [2,2,5,5,6, 9]\n",
    "result = single_number(nums)\n",
    "result"
   ]
  },
  {
   "cell_type": "markdown",
   "metadata": {},
   "source": [
    "# Valid Anagram\n",
    "### Given two strings s and t, return true if t is an anagram of s, and false otherwise.\n",
    "\n",
    "### An Anagram is a word or phrase formed by rearranging the letters of a different word or phrase, typically using all the original letters exactly once.\n",
    "https://leetcode.com/problems/valid-anagram/\n",
    "Logic: store each letters from first word in dictionary d[char:no.of occurrence], then compare with the another word if the letter is exist then do the process (delete if same letter is appeared in the dict)\n",
    "    "
   ]
  },
  {
   "cell_type": "code",
   "execution_count": 37,
   "metadata": {},
   "outputs": [
    {
     "data": {
      "text/plain": [
       "True"
      ]
     },
     "execution_count": 37,
     "metadata": {},
     "output_type": "execute_result"
    }
   ],
   "source": [
    "def valid_anagram(s,t):\n",
    "    d = {}  # create an empty dictionary\n",
    "    for i in s: # iterate first word to form dictionary elements\n",
    "        if i not in d: # store the char if that is not present in the dict\n",
    "            d[i]=1\n",
    "        else:\n",
    "            d[i]+=1 #increase its count\n",
    "    for j in t: #compare the dict element with second word\n",
    "        if j not in d: # if the char is not present in the dict simply return false because we cannot form same word with different char\n",
    "            return False\n",
    "        else:\n",
    "            if d[j]==1: # if the char present only one time then simply delete that char\n",
    "                del d[j]\n",
    "            else:\n",
    "                d[j]-=1 # if the char has multiple time then reduce its count\n",
    "    if d=={}: # if the dict is empty then both are same word\n",
    "        return True\n",
    "    else:\n",
    "        False\n",
    "        \n",
    "s = 'raj'\n",
    "t = 'jar'\n",
    "valid_anagram(s,t)"
   ]
  },
  {
   "cell_type": "markdown",
   "metadata": {},
   "source": [
    "# Group Anagrams\n",
    "### Given an array of strings strs, group the anagrams together. You can return the answer in any order.\n",
    "\n",
    "### An Anagram is a word or phrase formed by rearranging the letters of a different word or phrase, typically using all the original letters exactly once.\n",
    "\n",
    "https://leetcode.com/problems/group-anagrams/\n",
    "\n",
    "Logic: if we sort the anagram word we will get the same words. form a dict d[sorted_word:[list of the original word]]"
   ]
  },
  {
   "cell_type": "code",
   "execution_count": 38,
   "metadata": {},
   "outputs": [
    {
     "data": {
      "text/plain": [
       "[['raj', 'jar'], ['aru', 'ura'], ['mugam']]"
      ]
     },
     "execution_count": 38,
     "metadata": {},
     "output_type": "execute_result"
    }
   ],
   "source": [
    "def group_anagrams(anagrams):\n",
    "    d ={}\n",
    "    for i in anagrams: # iteratable variable take words from the list\n",
    "        sort=\"\".join(sorted(i)) # soted i will return list of char so we need to covert as a string \n",
    "        if sort not in d:\n",
    "            d[sort] = [i] # store the word in dict\n",
    "            \n",
    "        else:\n",
    "            d[sort].append(i) # append the new word in the dict\n",
    "    return list(d.values()) # to display as a list use list keyword\n",
    "\n",
    "anagrams = ['raj','jar','aru','ura','mugam']\n",
    "group_anagrams(anagrams)"
   ]
  },
  {
   "cell_type": "code",
   "execution_count": null,
   "metadata": {},
   "outputs": [],
   "source": []
  },
  {
   "cell_type": "code",
   "execution_count": null,
   "metadata": {},
   "outputs": [],
   "source": []
  }
 ],
 "metadata": {
  "kernelspec": {
   "display_name": "Python 3",
   "language": "python",
   "name": "python3"
  },
  "language_info": {
   "codemirror_mode": {
    "name": "ipython",
    "version": 3
   },
   "file_extension": ".py",
   "mimetype": "text/x-python",
   "name": "python",
   "nbconvert_exporter": "python",
   "pygments_lexer": "ipython3",
   "version": "3.8.3"
  }
 },
 "nbformat": 4,
 "nbformat_minor": 4
}
